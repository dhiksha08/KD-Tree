{
 "cells": [
  {
   "cell_type": "code",
   "execution_count": 20,
   "id": "2f5c4226",
   "metadata": {},
   "outputs": [
    {
     "data": {
      "text/plain": [
       "True"
      ]
     },
     "execution_count": 20,
     "metadata": {},
     "output_type": "execute_result"
    }
   ],
   "source": [
    "import numpy\n",
    "def Check(box,P):\n",
    "    box=numpy.array(box)\n",
    "    P=numpy.asarray(P)\n",
    "    return all(box[0]<=P) and all(P<=box[1])\n",
    "Check([(0,0),(4,4)],(2,2))"
   ]
  },
  {
   "cell_type": "code",
   "execution_count": 21,
   "id": "1699940c",
   "metadata": {},
   "outputs": [
    {
     "data": {
      "text/plain": [
       "2.0"
      ]
     },
     "execution_count": 21,
     "metadata": {},
     "output_type": "execute_result"
    }
   ],
   "source": [
    "def distance(p1,p2):\n",
    "    return (sum([(p1[i]-p2[i])**2 for i in range(len(p1))]))**0.5\n",
    "distance((2,0),(4,0))"
   ]
  },
  {
   "cell_type": "code",
   "execution_count": 22,
   "id": "13b7e881",
   "metadata": {},
   "outputs": [],
   "source": [
    "class kDTree:\n",
    "    def __init__(self,P,AllEle,d=0):\n",
    "        n=len(P)\n",
    "        #P=sorted(P,key=lambda x:x[d])\n",
    "        m=n//2\n",
    "        self.d=d\n",
    "        self.point=P[m]\n",
    "        self.ele=AllEle[m]\n",
    "        d=(d+1)%len(P[0])\n",
    "        self.left=self.right=None\n",
    "        if(m>0):\n",
    "            self.left=kDTree(P[:m],AllEle[:m],d)\n",
    "        if (n-(m+1)>0):\n",
    "            self.right=kDTree(P[m+1:],AllEle[m+1:],d)\n",
    "       \n",
    "    def traversal(self):\n",
    "        print(self.point)\n",
    "        if(self.left is not None):\n",
    "            self.left.traversal()\n",
    "        if(self.right is not None):\n",
    "            self.right.traversal()\n",
    "           \n",
    "    def insert(self,point):\n",
    "        if(point[self.d]<=self.point[self.d]):\n",
    "            if (self.left is None):\n",
    "                self.left=kDTree([point],(self.d+1)%len(point))\n",
    "            else:\n",
    "                self.left.insert(point)\n",
    "        else:\n",
    "            if (self.right is None):\n",
    "                self.right=kDTree([point],(self.d+1)%len(point))\n",
    "            else:\n",
    "                self.right.insert(point)\n",
    "           \n",
    "           \n",
    "    def rangeSearch(self,box):\n",
    "        if(Check(box,self.point)):\n",
    "            print(self.ele)\n",
    "        if(self.left is not None and box[0][self.d]<=self.point[self.d]):\n",
    "            self.left.rangeSearch(box)\n",
    "        if(self.right is not None and self.point[self.d]<=box[1][self.d]):\n",
    "            self.right.rangeSearch(box)   "
   ]
  },
  {
   "cell_type": "code",
   "execution_count": null,
   "id": "2e0ed041",
   "metadata": {},
   "outputs": [
    {
     "name": "stdout",
     "output_type": "stream",
     "text": [
      "Columns:\n",
      "1)Age\n",
      "2)Salary\n",
      "3)Bonus\n",
      "4)Weekly_Hours\n",
      "Enter k(2,3,4):2\n",
      "Enter column:Age\n",
      "Enter low:25\n",
      "Enter high:40\n",
      "Enter column:Salary\n",
      "Enter low:12000\n",
      "Enter high:25000\n",
      "[33, 'Thanu Sri T', 40, 13259, 1016, 26]\n",
      "[17, 'Mythili S', 37, 12388, 692, 26]\n",
      "[9, 'Ganesan.G', 35, 13800, 1206, 25]\n",
      "[13, 'Mohammed farhaan', 30, 12491, 1794, 37]\n",
      "[11, 'Manoj kumar', 26, 15860, 1521, 25]\n",
      "[12, 'KALIRAJ  J', 25, 18087, 657, 25]\n",
      "[18, 'Mageshbabu S', 25, 17816, 1512, 35]\n",
      "[44, 'Harsha Vardhini M', 29, 14207, 1903, 39]\n",
      "[43, 'Aiswaryaa Bahuleyan', 34, 19575, 1235, 25]\n",
      "[49, 'karupaiya', 29, 14162, 1538, 31]\n",
      "Do you want to repeat again?y\n",
      "Enter k(2,3,4):3\n",
      "Enter column:Age\n",
      "Enter low:25\n",
      "Enter high:40\n",
      "Enter column:Salary\n",
      "Enter low:12000\n",
      "Enter high:25000\n",
      "Enter column:Bonus\n",
      "Enter low:600\n",
      "Enter high:1000\n",
      "[17, 'Mythili S', 37, 12388, 692, 26]\n",
      "[12, 'KALIRAJ  J', 25, 18087, 657, 25]\n"
     ]
    }
   ],
   "source": [
    "import pandas as pd\n",
    "df=pd.read_csv(\"/Users/sharmilajayasankaran/Desktop/Employee - Sheet1.csv\")\n",
    "Age=df[\"Age\"]  \n",
    "Eid=df[\"E_ID\"]\n",
    "EName=df[\"E_Name\"]\n",
    "Salary=df[\"Salary\"]\n",
    "Weekly_Hours=df[\"Weekly_Hours\"]\n",
    "Bonus=df[\"Bonus\"]\n",
    "allEle=[[Eid[i],EName[i],Age[i],Salary[i],Bonus[i],Weekly_Hours[i]] for i in range(len(Age))]\n",
    "print(\"Columns:\")\n",
    "print(\"1)Age\")\n",
    "print(\"2)Salary\")\n",
    "print(\"3)Bonus\")\n",
    "print(\"4)Weekly_Hours\")\n",
    "while(True):\n",
    "    n=int(input(\"Enter k(2,3,4):\"))\n",
    "    attr=[]\n",
    "    box=[[],[]]\n",
    "    points=[]\n",
    "    for i in range(n):\n",
    "        col=(input(\"Enter column:\"))\n",
    "        low=int(input(\"Enter low:\"))\n",
    "        high=int(input(\"Enter high:\"))\n",
    "        attr.append([col,low,high])\n",
    "    attr=sorted(attr,key=lambda x:x[0])\n",
    "    for i in range(len(attr)):\n",
    "        box[0].append(attr[i][1])\n",
    "        box[1].append(attr[i][2])\n",
    "    if(n==2):\n",
    "        l1=list(df[attr[0][0]])\n",
    "        l2=list(df[attr[1][0]])\n",
    "        points=[(l1[i],l2[i]) for i in range(len(l1))]\n",
    "    elif(n==3):\n",
    "        l1=list(df[attr[0][0]])\n",
    "        l2=list(df[attr[1][0]])\n",
    "        l3=list(df[attr[2][0]])\n",
    "        points=[(l1[i],l2[i],l3[i]) for i in range(len(l1))]\n",
    "    elif(n==4):\n",
    "        l1=list(df[attr[0][0]])\n",
    "        l2=list(df[attr[1][0]])\n",
    "        l3=list(df[attr[2][0]])\n",
    "        l4=list(df[attr[3][0]])\n",
    "        points=[(l1[i],l2[i],l3[i],l4[i]) for i in range(len(l1))]\n",
    "    T=kDTree(points,allEle)\n",
    "    T.rangeSearch(box)\n",
    "    if(input(\"Do you want to repeat again?\").upper()!='Y'):\n",
    "        break"
   ]
  },
  {
   "cell_type": "code",
   "execution_count": null,
   "id": "734f45a8",
   "metadata": {},
   "outputs": [],
   "source": []
  }
 ],
 "metadata": {
  "kernelspec": {
   "display_name": "Python 3 (ipykernel)",
   "language": "python",
   "name": "python3"
  },
  "language_info": {
   "codemirror_mode": {
    "name": "ipython",
    "version": 3
   },
   "file_extension": ".py",
   "mimetype": "text/x-python",
   "name": "python",
   "nbconvert_exporter": "python",
   "pygments_lexer": "ipython3",
   "version": "3.9.12"
  }
 },
 "nbformat": 4,
 "nbformat_minor": 5
}
